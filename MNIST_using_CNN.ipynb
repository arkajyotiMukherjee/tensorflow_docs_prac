{
  "nbformat": 4,
  "nbformat_minor": 0,
  "metadata": {
    "colab": {
      "name": "MNIST_using_CNN.ipynb",
      "version": "0.3.2",
      "provenance": [],
      "collapsed_sections": [],
      "include_colab_link": true
    },
    "kernelspec": {
      "name": "python3",
      "display_name": "Python 3"
    },
    "accelerator": "GPU"
  },
  "cells": [
    {
      "cell_type": "markdown",
      "metadata": {
        "id": "view-in-github",
        "colab_type": "text"
      },
      "source": [
        "<a href=\"https://colab.research.google.com/github/arkajyotiMukherjee/tensorflow_docs_prac/blob/master/MNIST_using_CNN.ipynb\" target=\"_parent\"><img src=\"https://colab.research.google.com/assets/colab-badge.svg\" alt=\"Open In Colab\"/></a>"
      ]
    },
    {
      "cell_type": "markdown",
      "metadata": {
        "id": "5xeMXu0yp1TW",
        "colab_type": "text"
      },
      "source": [
        "#MNIST dataset classification using CNN\n",
        "\n",
        "##Importing libraries\n",
        "Importing the various libraries required for the classification.\n",
        "\n",
        "**__ future __** : The future package will provide support for running your code on Python 2.6, 2.7, and 3.3+ mostly unchanged.\n",
        "\n",
        "Rest of the imports are pretty much straight forward.\n",
        "\n",
        "%%capture is a built-in magic command that hides the output of the packages installing"
      ]
    },
    {
      "cell_type": "code",
      "metadata": {
        "id": "qQMToRD-koBO",
        "colab_type": "code",
        "colab": {}
      },
      "source": [
        "%%capture\n",
        "from __future__ import absolute_import, division, print_function, unicode_literals\n",
        "\n",
        "!pip install tensorflow-gpu==2.0.0-beta1\n",
        "import tensorflow as tf\n",
        "from tensorflow.keras import layers, datasets, models"
      ],
      "execution_count": 0,
      "outputs": []
    },
    {
      "cell_type": "markdown",
      "metadata": {
        "id": "y7olqvMMr4bV",
        "colab_type": "text"
      },
      "source": [
        "##Download and prepare the MNIST dataset"
      ]
    },
    {
      "cell_type": "code",
      "metadata": {
        "id": "_TNfcZVKoGOM",
        "colab_type": "code",
        "outputId": "e9b11eb1-9d6a-4621-af79-ee8158348e5d",
        "colab": {
          "base_uri": "https://localhost:8080/",
          "height": 50
        }
      },
      "source": [
        "# Downloading the data and splting it into train and test images\n",
        "(train_images, train_labels), (test_images, test_labels) = datasets.mnist.load_data()\n",
        "\n",
        "# Reshape it into the following shapes\n",
        "# The images are of (28,28,1) shapes : (width, height, channels)\n",
        "# The channel size is 1 since the images are grayscale. If it were RGB it would have channel size of 3\n",
        "print('Before: ', train_images.shape, test_images.shape)\n",
        "\n",
        "train_images = train_images.reshape((60000,28,28,1))\n",
        "test_images = test_images.reshape((10000,28,28,1))\n",
        "\n",
        "print('After: ', train_images.shape, test_images.shape)\n",
        "\n",
        "# Normalize the images so that it's pixel values remain between 0 and 1\n",
        "# This helps some models perform better\n",
        "train_images, test_images = train_images/255, test_images/255"
      ],
      "execution_count": 0,
      "outputs": [
        {
          "output_type": "stream",
          "text": [
            "Before:  (60000, 28, 28) (10000, 28, 28)\n",
            "After:  (60000, 28, 28, 1) (10000, 28, 28, 1)\n"
          ],
          "name": "stdout"
        }
      ]
    },
    {
      "cell_type": "markdown",
      "metadata": {
        "id": "ZkP0JqoevRVF",
        "colab_type": "text"
      },
      "source": [
        "##Defaining the model\n",
        "This model consists of :\n",
        "\n",
        "*  **Convolutional** and **MaxPooling layers**.\n",
        "The first layer takes a special argument input_shape to know to shape in which the input will be provided.\n",
        "The subsecutent layers do not need this argument as those recieve its input from the previous layers so keras handles it. \n",
        "* After twolayers of Con2D and MaxPolling2D we use a **Flatten** layer to flatten the last Conv layer into a long vector\n",
        "* A **Dense** layer is used that is ***fully connected*** to each of the inputs from the Flatten layer\n",
        "* Finally a **Dense** layer of **10 units** (for the 0-9 digits in the MNIST dataset) is used with a **softmax activation**\n",
        "\n",
        "\n",
        "\n",
        "\n",
        "\n"
      ]
    },
    {
      "cell_type": "code",
      "metadata": {
        "id": "tCaooC2-vad9",
        "colab_type": "code",
        "colab": {}
      },
      "source": [
        "model = models.Sequential([\n",
        "    layers.Conv2D(filters=32, kernel_size=(3,3), activation='relu', input_shape=(28,28,1)),\n",
        "    layers.MaxPooling2D(pool_size=(2,2)),\n",
        "    layers.Conv2D(filters=64, kernel_size=(3,3), activation='relu'),\n",
        "    layers.MaxPooling2D(pool_size=(2,2)),\n",
        "    layers.Conv2D(filters=64, kernel_size=(3,3), activation='relu'),\n",
        "    layers.Flatten(),\n",
        "    layers.Dense(64, activation='relu'),\n",
        "    layers.Dense(10, activation='softmax')\n",
        "])"
      ],
      "execution_count": 0,
      "outputs": []
    },
    {
      "cell_type": "markdown",
      "metadata": {
        "id": "hg_QCoOtxkf3",
        "colab_type": "text"
      },
      "source": [
        "Display the model summary/architecture.\n",
        "This will also show you the number of parameters in use"
      ]
    },
    {
      "cell_type": "code",
      "metadata": {
        "id": "ixE9nyK9xvGX",
        "colab_type": "code",
        "outputId": "baa030cb-d760-4939-a6cf-33fe848a9ac1",
        "colab": {
          "base_uri": "https://localhost:8080/",
          "height": 420
        }
      },
      "source": [
        "model.summary()"
      ],
      "execution_count": 0,
      "outputs": [
        {
          "output_type": "stream",
          "text": [
            "Model: \"sequential_3\"\n",
            "_________________________________________________________________\n",
            "Layer (type)                 Output Shape              Param #   \n",
            "=================================================================\n",
            "conv2d_9 (Conv2D)            (None, 26, 26, 32)        320       \n",
            "_________________________________________________________________\n",
            "max_pooling2d_6 (MaxPooling2 (None, 13, 13, 32)        0         \n",
            "_________________________________________________________________\n",
            "conv2d_10 (Conv2D)           (None, 11, 11, 64)        18496     \n",
            "_________________________________________________________________\n",
            "max_pooling2d_7 (MaxPooling2 (None, 5, 5, 64)          0         \n",
            "_________________________________________________________________\n",
            "conv2d_11 (Conv2D)           (None, 3, 3, 64)          36928     \n",
            "_________________________________________________________________\n",
            "flatten_2 (Flatten)          (None, 576)               0         \n",
            "_________________________________________________________________\n",
            "dense_4 (Dense)              (None, 64)                36928     \n",
            "_________________________________________________________________\n",
            "dense_5 (Dense)              (None, 10)                650       \n",
            "=================================================================\n",
            "Total params: 93,322\n",
            "Trainable params: 93,322\n",
            "Non-trainable params: 0\n",
            "_________________________________________________________________\n"
          ],
          "name": "stdout"
        }
      ]
    },
    {
      "cell_type": "markdown",
      "metadata": {
        "id": "XNqBnhm-1nHK",
        "colab_type": "text"
      },
      "source": [
        "##Compile the model\n",
        "\n",
        "\n",
        "*   **optimizer** : The function used for the minimization of the loss\n",
        "*   **loss** : The end goal to minimize\n",
        "*   **metrics** : List of metrics to be evaluated by the model during training and testing\n",
        "\n"
      ]
    },
    {
      "cell_type": "code",
      "metadata": {
        "id": "S_iXy_Ex1tBI",
        "colab_type": "code",
        "colab": {}
      },
      "source": [
        "model.compile(optimizer='adam',\n",
        "             loss='sparse_categorical_crossentropy',\n",
        "             metrics=['accuracy'])"
      ],
      "execution_count": 0,
      "outputs": []
    },
    {
      "cell_type": "markdown",
      "metadata": {
        "id": "SQpYFYcd3M54",
        "colab_type": "text"
      },
      "source": [
        "##Train the model\n",
        "Here we input the training date and it's labels to train the model. Epochs is the number of training interations the model will do with the entire dataset."
      ]
    },
    {
      "cell_type": "code",
      "metadata": {
        "id": "nQ1C6sUD3Q9h",
        "colab_type": "code",
        "outputId": "205d4921-c2d8-4880-bb25-1ddf7fc03e14",
        "colab": {
          "base_uri": "https://localhost:8080/",
          "height": 218
        }
      },
      "source": [
        "model.fit(train_images, train_labels, epochs=5)"
      ],
      "execution_count": 0,
      "outputs": [
        {
          "output_type": "stream",
          "text": [
            "Train on 60000 samples\n",
            "Epoch 1/5\n",
            "60000/60000 [==============================] - 6s 107us/sample - loss: 0.1499 - accuracy: 0.9539\n",
            "Epoch 2/5\n",
            "60000/60000 [==============================] - 6s 104us/sample - loss: 0.0475 - accuracy: 0.9854\n",
            "Epoch 3/5\n",
            "60000/60000 [==============================] - 6s 104us/sample - loss: 0.0334 - accuracy: 0.9898\n",
            "Epoch 4/5\n",
            "60000/60000 [==============================] - 6s 104us/sample - loss: 0.0263 - accuracy: 0.9918\n",
            "Epoch 5/5\n",
            "60000/60000 [==============================] - 6s 105us/sample - loss: 0.0205 - accuracy: 0.9936\n"
          ],
          "name": "stdout"
        },
        {
          "output_type": "execute_result",
          "data": {
            "text/plain": [
              "<tensorflow.python.keras.callbacks.History at 0x7f2b22ba1518>"
            ]
          },
          "metadata": {
            "tags": []
          },
          "execution_count": 32
        }
      ]
    },
    {
      "cell_type": "markdown",
      "metadata": {
        "id": "2rH5RRCb37q8",
        "colab_type": "text"
      },
      "source": [
        "##Now we evaluate the model on unseen data"
      ]
    },
    {
      "cell_type": "code",
      "metadata": {
        "id": "VHIb_Dby4BRp",
        "colab_type": "code",
        "outputId": "5b6f5a89-8a06-4c67-a367-31e3d425fe80",
        "colab": {
          "base_uri": "https://localhost:8080/",
          "height": 50
        }
      },
      "source": [
        "test_loss, test_accuracy = model.evaluate(test_images, test_labels)\n",
        "print('Test accuracy : ', round(test_accuracy*100, 2), '%')"
      ],
      "execution_count": 0,
      "outputs": [
        {
          "output_type": "stream",
          "text": [
            "10000/10000 [==============================] - 1s 59us/sample - loss: 0.0324 - accuracy: 0.9901\n",
            "Test accuracy :  99.01 %\n"
          ],
          "name": "stdout"
        }
      ]
    },
    {
      "cell_type": "markdown",
      "metadata": {
        "id": "HkmV8yWk5HDV",
        "colab_type": "text"
      },
      "source": [
        "***Congratulations we have an accuracy of 99% above on unseen data of the MNIST dataset with our model***\n",
        "\n",
        "(Results may vary with different runs but should generally be above 98%)"
      ]
    }
  ]
}